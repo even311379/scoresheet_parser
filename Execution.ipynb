{
 "cells": [
  {
   "cell_type": "markdown",
   "metadata": {},
   "source": [
    "## 執行以下各段\n",
    "shift + Enter"
   ]
  },
  {
   "cell_type": "code",
   "execution_count": 27,
   "metadata": {},
   "outputs": [],
   "source": [
    "import os\n",
    "import pandas as pd\n",
    "import numpy as np\n",
    "from tqdm import tqdm_notebook as tqdm\n",
    "from my_parser import complete_patterns, missing_patterns, keep_score_sheet_only\n",
    "import pdftotext\n",
    "import jieba\n",
    "from sklearn.feature_extraction.text import TfidfVectorizer\n",
    "from scipy.cluster.hierarchy import ward, dendrogram\n",
    "import matplotlib.pyplot as plt\n",
    "from sklearn.cluster import AgglomerativeClustering\n",
    "from shutil import copyfile\n",
    "import re"
   ]
  },
  {
   "cell_type": "code",
   "execution_count": 2,
   "metadata": {},
   "outputs": [],
   "source": [
    "upper_most = 'CAAC審查資料PDF'\n",
    "all_pdf_files = [ f'{upper_most}/{i}/{j}/{j}.pdf' for i in os.listdir(upper_most) for j in os.listdir(upper_most+'/'+i) ]"
   ]
  },
  {
   "cell_type": "code",
   "execution_count": 3,
   "metadata": {},
   "outputs": [
    {
     "data": {
      "application/vnd.jupyter.widget-view+json": {
       "model_id": "a7a7dc78c0e04459827cc58fc4cd83a4",
       "version_major": 2,
       "version_minor": 0
      },
      "text/plain": [
       "HBox(children=(IntProgress(value=0, max=704), HTML(value='')))"
      ]
     },
     "metadata": {},
     "output_type": "display_data"
    },
    {
     "name": "stdout",
     "output_type": "stream",
     "text": [
      "\n",
      "Done!\n",
      "*****************************\n",
      "Success: 388/704\n",
      "Skipped: 261/704\n",
      "Ocr required: 33/704\n",
      "Failed: 22/704\n"
     ]
    }
   ],
   "source": [
    "DD = []\n",
    "Failed_files = []\n",
    "Skipped_files = []\n",
    "Ocr_files = []\n",
    "\n",
    "for f in tqdm(all_pdf_files):\n",
    "    R = complete_patterns(f)\n",
    "    if type(R) == list:\n",
    "        if len(R) != 20:\n",
    "            print('Something wrong!')\n",
    "            print(R)\n",
    "            Skipped_files.append(f)\n",
    "            continue\n",
    "            \n",
    "        DD.append(R)\n",
    "        \n",
    "    elif R == 'skipped':\n",
    "        Skipped_files.append(f)\n",
    "    elif R == 'Ocr required':\n",
    "        Ocr_files.append(f)\n",
    "    else:\n",
    "        Failed_files.append(f)\n",
    "else:\n",
    "    print('Done!')\n",
    "\n",
    "print('*****************************')\n",
    "print(f'Success: {len(DD)}/{len(all_pdf_files)}')\n",
    "print(f'Skipped: {len(Skipped_files)}/{len(all_pdf_files)}')\n",
    "print(f'Ocr required: {len(Ocr_files)}/{len(all_pdf_files)}')\n",
    "print(f'Failed: {len(Failed_files)}/{len(all_pdf_files)}')"
   ]
  },
  {
   "cell_type": "code",
   "execution_count": 4,
   "metadata": {},
   "outputs": [
    {
     "data": {
      "application/vnd.jupyter.widget-view+json": {
       "model_id": "3875d721cbcb43159d237d60a4dfdd03",
       "version_major": 2,
       "version_minor": 0
      },
      "text/plain": [
       "HBox(children=(IntProgress(value=0, max=261), HTML(value='')))"
      ]
     },
     "metadata": {},
     "output_type": "display_data"
    },
    {
     "name": "stdout",
     "output_type": "stream",
     "text": [
      "\n",
      "Done!\n",
      "****************************************\n",
      "Success: 213/261\n",
      "Failed: 48/261\n"
     ]
    }
   ],
   "source": [
    "missing_DD = []\n",
    "for f in tqdm(Skipped_files):\n",
    "    R = missing_patterns(f)\n",
    "    if R:\n",
    "        if len(R) != 20:\n",
    "            print('Something wrong!')\n",
    "            print(R)\n",
    "            Failed_files.append(f)\n",
    "            continue\n",
    "        missing_DD.append(R)\n",
    "\n",
    "    else:\n",
    "        Failed_files.append(f)\n",
    "else:\n",
    "    print('Done!')\n",
    "\n",
    "print('****************************************')\n",
    "print(f'Success: {len(missing_DD)}/{len(Skipped_files)}')\n",
    "print(f'Failed: {len(Skipped_files)-len(missing_DD)}/{len(Skipped_files)}')"
   ]
  },
  {
   "cell_type": "code",
   "execution_count": 30,
   "metadata": {},
   "outputs": [],
   "source": [
    "columns = ['系所代碼','準考號碼','姓名','學校',\n",
    "           '一上班排','一下班排','二上班排','二下班排','三上班排',\n",
    "           '一上組排','一下組排','二上組排','二下組排','三上組排',\n",
    "           '一上校排','一下校排','二上校排','二下校排','三上校排',\n",
    "           'ParserPattern']\n",
    "df = pd.DataFrame(DD+missing_DD,columns=columns)\n",
    "df_min = pd.concat([df.iloc[:,i*5+4:i*5+9].min(axis=1) for i in range(3)],axis=1)\n",
    "df_min.columns=['最佳班排','最佳組排','最佳校排']\n",
    "pd.concat([df,df_min],axis=1).to_excel('all_is_well2.xlsx',index=False)"
   ]
  },
  {
   "cell_type": "markdown",
   "metadata": {},
   "source": [
    "# run ocr"
   ]
  },
  {
   "cell_type": "code",
   "execution_count": null,
   "metadata": {},
   "outputs": [],
   "source": [
    "os.mkdir('ocr')\n",
    "os.mkdir('ocr/original')\n",
    "os.mkdir('ocr/processed')"
   ]
  },
  {
   "cell_type": "code",
   "execution_count": 17,
   "metadata": {},
   "outputs": [],
   "source": [
    "# keep scores sheet only to increase ocr processing speed\n",
    "for f in Ocr_files:\n",
    "    o = 'ocr/original/'+f.split('/')[1]+'_'+f.split('/')[2]+'.pdf'\n",
    "    keep_score_sheet_only(f,o)"
   ]
  },
  {
   "cell_type": "code",
   "execution_count": null,
   "metadata": {},
   "outputs": [],
   "source": [
    "# create shell scripts\n",
    "with open(\"ocr_scripts.sh\",\"w\") as f:\n",
    "    for file in os.listdir('ocr/original/'):\n",
    "        i = 'ocr/original/'+file\n",
    "        o = 'ocr/processed/'+file\n",
    "        f.write(f\"ocrmypdf -l chi_tra {i} {o} --force-ocr\\n\")"
   ]
  },
  {
   "cell_type": "code",
   "execution_count": null,
   "metadata": {},
   "outputs": [],
   "source": [
    "!sh ocr_scripts.sh"
   ]
  },
  {
   "cell_type": "markdown",
   "metadata": {},
   "source": [
    "## run file organization"
   ]
  },
  {
   "cell_type": "code",
   "execution_count": 56,
   "metadata": {},
   "outputs": [],
   "source": [
    "# let me handle it! if found:\n",
    "from difflib import SequenceMatcher\n",
    "\n",
    "def similar(a, b):\n",
    "    return SequenceMatcher(None, a, b).ratio()\n",
    "\n",
    "ppfiles = ['ocr/processed/'+i for i in os.listdir('ocr/processed/')]\n",
    "manual_files = Failed_files+ppfiles\n",
    "FF = []\n",
    "for file in manual_files:\n",
    "    with open(file, \"rb\") as f:\n",
    "        pdf = pdftotext.PDF(f)\n",
    "    if 'ocr' in file:\n",
    "        score_sheet = pdf[0]\n",
    "    else:\n",
    "        score_sheet = pdf[2]\n",
    "    \n",
    "    FF += [score_sheet[0:400]]\n",
    "\n",
    "worthy = False\n",
    "JJ = []\n",
    "for i, F1 in enumerate(FF):\n",
    "    A = 0\n",
    "    for F2 in FF:\n",
    "        if similar(F1,F2) >= 0.7:\n",
    "            A += 1\n",
    "    if A >= 15:\n",
    "        print('worthy')\n",
    "        JJ.append(manual_files[i])\n",
    "\n",
    "if worthy:\n",
    "    [manual_file.remove(i) for i in JJ]\n",
    "    \n",
    "FF = []"
   ]
  },
  {
   "cell_type": "code",
   "execution_count": 50,
   "metadata": {},
   "outputs": [],
   "source": [
    "# prepare date to run cluster\n",
    "SS = []\n",
    "ppfiles = ['ocr/processed/'+i for i in os.listdir('ocr/processed/')]\n",
    "manual_files = Failed_files+ppfiles\n",
    "for file in manual_files:\n",
    "    with open(file, \"rb\") as f:\n",
    "        pdf = pdftotext.PDF(f)\n",
    "    if 'ocr' in file:\n",
    "        score_sheet = pdf[0]\n",
    "    else:\n",
    "        score_sheet = pdf[2]\n",
    "        \n",
    "    SS.append(\" \".join(jieba.cut(re.sub('\\W|\\d|[a-zA-Z]','',score_sheet),cut_all=False)))\n",
    "    "
   ]
  },
  {
   "cell_type": "code",
   "execution_count": 51,
   "metadata": {},
   "outputs": [
    {
     "data": {
      "image/png": "[encoded data removed]",
      "text/plain": [
       "<Figure size 1080x792 with 1 Axes>"
      ]
     },
     "metadata": {
      "needs_background": "light"
     },
     "output_type": "display_data"
    }
   ],
   "source": [
    "vect = TfidfVectorizer(min_df=1)\n",
    "tfidf = vect.fit_transform(SS)\n",
    "SS_sim_mat = (tfidf * tfidf.T).A\n",
    "linkage_matrix = ward(SS_sim_mat)\n",
    "\n",
    "plt.figure(figsize=(15, 11))  \n",
    "dd = dendrogram(linkage_matrix,  \n",
    "            orientation='top',\n",
    "            distance_sort='descending',\n",
    "            show_leaf_counts=True,\n",
    "            no_labels=True,\n",
    "            color_threshold=4) # you can tune this value to deside how many group\n",
    "plt.show() "
   ]
  },
  {
   "cell_type": "markdown",
   "metadata": {},
   "source": [
    "## How many group?"
   ]
  },
  {
   "cell_type": "code",
   "execution_count": 31,
   "metadata": {},
   "outputs": [],
   "source": [
    "G = 10"
   ]
  },
  {
   "cell_type": "code",
   "execution_count": 35,
   "metadata": {},
   "outputs": [],
   "source": [
    "cluster = AgglomerativeClustering(n_clusters=G, affinity='euclidean', linkage='ward')\n",
    "cluster.fit_predict(SS_sim_mat)\n",
    "\n",
    "os.mkdir('manual')\n",
    "for i in range(G):\n",
    "    os.mkdir(f'manual/G{i}')\n",
    "\n",
    "for i,file in enumerate(manual_files):\n",
    "    copyfile(file,'manual/G'+str(cluster.labels_[i])+'/'+file.split('/')[-1])\n",
    "\n",
    "# create template excel files to start manual work\n",
    "for i in range(G):\n",
    "    temp = [f for j,f in enumerate(manual_files) if cluster.labels_[j] == i]\n",
    "    DL = []\n",
    "    for f in temp:\n",
    "        D = []\n",
    "        if 'ocr' in f:\n",
    "            D.append(re.findall('/(\\d*?)_',f)[0])\n",
    "            D.append(re.findall('_(.*?)\\.pdf',f)[0])\n",
    "        else:\n",
    "            D.append(f.split('/')[1])\n",
    "            D.append(f.split('/')[2])\n",
    "        D += [np.nan]*17\n",
    "        D.append('手動處理！！加油！！')\n",
    "        DL.append(D)\n",
    "    pd.DataFrame(DL,columns=columns).to_excel(f'manual/G{i}/template_G{i}.xlsx',index=False)"
   ]
  },
  {
   "cell_type": "markdown",
   "metadata": {},
   "source": [
    "## Additional_table"
   ]
  },
  {
   "cell_type": "code",
   "execution_count": null,
   "metadata": {},
   "outputs": [],
   "source": [
    "from my_parser import additional_table_parser"
   ]
  },
  {
   "cell_type": "code",
   "execution_count": null,
   "metadata": {},
   "outputs": [],
   "source": [
    "O = []\n",
    "fail_table_files = []\n",
    "for file in tqdm(all_pdf_files):\n",
    "    with open(file, 'rb') as f:\n",
    "        pdf = pdftotext.PDF(f)\n",
    "    if len(pdf) < 4:\n",
    "        print('This file is so wierd.')\n",
    "        continue\n",
    "    for page in pdf:\n",
    "        if '大學個人申請入學第二階段審查資料' in page:\n",
    "            table_page = page\n",
    "            break\n",
    "    else:\n",
    "        print(f'{file} does not contain our target table!')\n",
    "        fail_table_files.append(file)\n",
    "        continue\n",
    "    try:\n",
    "        oo = additional_table_parser(table_page)\n",
    "    except Exception as e:\n",
    "        print(f'My parser is broken for {file}!!!')\n",
    "        print(e)\n",
    "        fail_table_files.append(file)\n",
    "        continue\n",
    "    if len(oo) == 25:\n",
    "        O.append(oo)\n",
    "    else:\n",
    "        print(f'My parser is broken for {file}!!!')\n",
    "        fail_table_files.append(file)\n",
    "else:\n",
    "    print('Done!')\n",
    "\n",
    "print('*******************************************************')\n",
    "print(f'Failed: {len(fail_table_files)}/{len(all_pdf_files)}')"
   ]
  },
  {
   "cell_type": "code",
   "execution_count": null,
   "metadata": {},
   "outputs": [],
   "source": [
    "table_columns = ['系所代碼','準考號碼','姓名','學校',m\n",
    "           '一上班排','一下班排','二上班排','二下班排','三上班排',\n",
    "           '一上組排','一下組排','二上組排','二下組排','三上組排',\n",
    "           '一上校排','一下校排','二上校排','二下校排','三上校排',\n",
    "           '科目一','科目一分數','科目二','科目二分數','科目三','科目三分數']\n",
    "\n",
    "pd.DataFrame(O,columns=table_columns).to_excel('additional_table.xlsx',index=False)"
   ]
  }
 ],
 "metadata": {
  "kernelspec": {
   "display_name": "Python 3",
   "language": "python",
   "name": "python3"
  },
  "language_info": {
   "codemirror_mode": {
    "name": "ipython",
    "version": 3
   },
   "file_extension": ".py",
   "mimetype": "text/x-python",
   "name": "python",
   "nbconvert_exporter": "python",
   "pygments_lexer": "ipython3",
   "version": "3.6.7"
  }
 },
 "nbformat": 4,
 "nbformat_minor": 2
}
